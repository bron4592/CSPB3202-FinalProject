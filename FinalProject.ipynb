{
 "cells": [
  {
   "cell_type": "markdown",
   "metadata": {},
   "source": [
    "Brandon O'Neill<br>\n",
    "CSPB 3202<br>\n",
    "August 10, 2020<br>\n",
    "Final Project<br>"
   ]
  },
  {
   "cell_type": "markdown",
   "metadata": {},
   "source": [
    "# Project Overview\n",
    "\n",
    "For my project, I decided to try and build an RL model for the mountain car environment. This was done using Python 3, Ptan, and gym. The mountain car problem is one where a car must accelerate to the left or right in order to gain enough momentum to get to the top of the hill. Below you will see an example of this."
   ]
  },
  {
   "cell_type": "code",
   "execution_count": 2,
   "metadata": {},
   "outputs": [],
   "source": [
    "import ptan\n",
    "import gym\n",
    "import numpy as np\n",
    "from gym import wrappers"
   ]
  },
  {
   "cell_type": "markdown",
   "metadata": {},
   "source": [
    "## Example Problem\n",
    "Here you can see the environment with a fully random policy. The car is unable to make any progress up the hill at this point."
   ]
  },
  {
   "cell_type": "code",
   "execution_count": 6,
   "metadata": {},
   "outputs": [
    {
     "data": {
      "text/html": [
       "<video src=\"car.mp4\" controls  >\n",
       "      Your browser does not support the <code>video</code> element.\n",
       "    </video>"
      ],
      "text/plain": [
       "<IPython.core.display.Video object>"
      ]
     },
     "execution_count": 6,
     "metadata": {},
     "output_type": "execute_result"
    }
   ],
   "source": [
    "from IPython.display import Video\n",
    "\n",
    "Video(\"car.mp4\")"
   ]
  },
  {
   "cell_type": "code",
   "execution_count": 2,
   "metadata": {},
   "outputs": [],
   "source": [
    "\n",
    "env = gym.make(\"MountainCar-v0\")\n",
    "observation = env.reset()\n",
    "for _ in range(1000):\n",
    "  env.render()\n",
    "  action = env.action_space.sample() # your agent here (this takes random actions)\n",
    "  observation, reward, done, info = env.step(action)\n",
    "\n",
    "  if done:\n",
    "    observation = env.reset()\n",
    "env.close()"
   ]
  },
  {
   "cell_type": "markdown",
   "metadata": {},
   "source": [
    "# The Mountain Climbing Probem   \n",
    "   \n",
    "   ### Environment:\n",
    "    Actions:\n",
    "         Accelerate to the Left\n",
    "         Don't accelerate\n",
    "         Accelerate to the Right\n",
    "    Reward:\n",
    "         Reward of 0 is awarded if the agent reached the flag (position = 0.5)\n",
    "         on top of the mountain.\n",
    "         Reward of -1 is awarded if the position of the agent is less than 0.5.\n",
    "    Starting State:\n",
    "         The position of the car is assigned a uniform random value in\n",
    "         [-0.6 , -0.4].\n",
    "         The starting velocity of the car is always assigned to 0.\n",
    "    Episode Termination:\n",
    "         The car position is more than 0.5\n",
    "         Episode length is greater than 200"
   ]
  },
  {
   "attachments": {
    "car.png": {
     "image/png": "[encoded data removed]"
    }
   },
   "cell_type": "markdown",
   "metadata": {},
   "source": [
    "![car.png](attachment:car.png)"
   ]
  },
  {
   "cell_type": "markdown",
   "metadata": {},
   "source": [
    "## Approach:\n",
    "I decided to use Deep Q Learning to solve this problem. QLearning is a model free reinforcement learning technique that can be used to find the optimal action selection policy using Q function without requiring a model of the environment. Q-learning eventually finds an optimal policy. I used a number of variables sourced from other QLearning models and implemented the structure that iterates 5000 times. At the completion of these iterations, the optimal policy will be returned. This optimal policy can then be used in the gym environment to run the car up the mountain."
   ]
  },
  {
   "cell_type": "code",
   "execution_count": 4,
   "metadata": {},
   "outputs": [
    {
     "name": "stdout",
     "output_type": "stream",
     "text": [
      "Iteration No: 1 -- Total Reward : -210.\n",
      "Iteration No: 51 -- Total Reward : -212.\n",
      "Iteration No: 101 -- Total Reward : -208.\n",
      "Iteration No: 151 -- Total Reward : -207.\n",
      "Iteration No: 201 -- Total Reward : -206.\n",
      "Iteration No: 251 -- Total Reward : -213.\n",
      "Iteration No: 301 -- Total Reward : -1.\n",
      "Iteration No: 351 -- Total Reward : -210.\n",
      "Iteration No: 401 -- Total Reward : -213.\n",
      "Iteration No: 451 -- Total Reward : -210.\n",
      "Iteration No: 501 -- Total Reward : -211.\n",
      "Iteration No: 551 -- Total Reward : -213.\n",
      "Iteration No: 601 -- Total Reward : -208.\n",
      "Iteration No: 651 -- Total Reward : -209.\n",
      "Iteration No: 701 -- Total Reward : -215.\n",
      "Iteration No: 751 -- Total Reward : -211.\n",
      "Iteration No: 801 -- Total Reward : -210.\n",
      "Iteration No: 851 -- Total Reward : -205.\n",
      "Iteration No: 901 -- Total Reward : -1.\n",
      "Iteration No: 951 -- Total Reward : -207.\n",
      "Iteration No: 1001 -- Total Reward : -218.\n",
      "Iteration No: 1051 -- Total Reward : -212.\n",
      "Iteration No: 1101 -- Total Reward : -209.\n",
      "Iteration No: 1151 -- Total Reward : -212.\n",
      "Iteration No: 1201 -- Total Reward : -210.\n",
      "Iteration No: 1251 -- Total Reward : -213.\n",
      "Iteration No: 1301 -- Total Reward : -211.\n",
      "Iteration No: 1351 -- Total Reward : -205.\n",
      "Iteration No: 1401 -- Total Reward : -214.\n",
      "Iteration No: 1451 -- Total Reward : -206.\n",
      "Iteration No: 1501 -- Total Reward : -207.\n",
      "Iteration No: 1551 -- Total Reward : -217.\n",
      "Iteration No: 1601 -- Total Reward : -205.\n",
      "Iteration No: 1651 -- Total Reward : -214.\n",
      "Iteration No: 1701 -- Total Reward : -213.\n",
      "Iteration No: 1751 -- Total Reward : -214.\n",
      "Iteration No: 1801 -- Total Reward : -212.\n",
      "Iteration No: 1851 -- Total Reward : -210.\n",
      "Iteration No: 1901 -- Total Reward : -216.\n",
      "Iteration No: 1951 -- Total Reward : -211.\n",
      "Iteration No: 2001 -- Total Reward : -210.\n",
      "Iteration No: 2051 -- Total Reward : -207.\n",
      "Iteration No: 2101 -- Total Reward : -214.\n",
      "Iteration No: 2151 -- Total Reward : -210.\n",
      "Iteration No: 2201 -- Total Reward : -211.\n",
      "Iteration No: 2251 -- Total Reward : -208.\n",
      "Iteration No: 2301 -- Total Reward : -212.\n",
      "Iteration No: 2351 -- Total Reward : -213.\n",
      "Iteration No: 2401 -- Total Reward : -210.\n",
      "Iteration No: 2451 -- Total Reward : -210.\n",
      "Iteration No: 2501 -- Total Reward : -210.\n",
      "Iteration No: 2551 -- Total Reward : -214.\n",
      "Iteration No: 2601 -- Total Reward : -205.\n",
      "Iteration No: 2651 -- Total Reward : -211.\n",
      "Iteration No: 2701 -- Total Reward : -210.\n",
      "Iteration No: 2751 -- Total Reward : -208.\n",
      "Iteration No: 2801 -- Total Reward : -216.\n",
      "Iteration No: 2851 -- Total Reward : -214.\n",
      "Iteration No: 2901 -- Total Reward : -210.\n",
      "Iteration No: 2951 -- Total Reward : -210.\n",
      "Iteration No: 3001 -- Total Reward : -1.\n",
      "Iteration No: 3051 -- Total Reward : -207.\n",
      "Iteration No: 3101 -- Total Reward : -209.\n",
      "Iteration No: 3151 -- Total Reward : -215.\n",
      "Iteration No: 3201 -- Total Reward : -207.\n",
      "Iteration No: 3251 -- Total Reward : -176.\n",
      "Iteration No: 3301 -- Total Reward : -209.\n",
      "Iteration No: 3351 -- Total Reward : -212.\n",
      "Iteration No: 3401 -- Total Reward : -210.\n",
      "Iteration No: 3451 -- Total Reward : -205.\n",
      "Iteration No: 3501 -- Total Reward : -209.\n",
      "Iteration No: 3551 -- Total Reward : -212.\n",
      "Iteration No: 3601 -- Total Reward : -209.\n",
      "Iteration No: 3651 -- Total Reward : -207.\n",
      "Iteration No: 3701 -- Total Reward : -207.\n",
      "Iteration No: 3751 -- Total Reward : -207.\n",
      "Iteration No: 3801 -- Total Reward : -209.\n",
      "Iteration No: 3851 -- Total Reward : -209.\n",
      "Iteration No: 3901 -- Total Reward : -206.\n",
      "Iteration No: 3951 -- Total Reward : -208.\n",
      "Iteration No: 4001 -- Total Reward : -208.\n",
      "Iteration No: 4051 -- Total Reward : -208.\n",
      "Iteration No: 4101 -- Total Reward : -211.\n",
      "Iteration No: 4151 -- Total Reward : -208.\n",
      "Iteration No: 4201 -- Total Reward : -207.\n",
      "Iteration No: 4251 -- Total Reward : -1.\n",
      "Iteration No: 4301 -- Total Reward : -209.\n",
      "Iteration No: 4351 -- Total Reward : -205.\n",
      "Iteration No: 4401 -- Total Reward : -213.\n",
      "Iteration No: 4451 -- Total Reward : -210.\n",
      "Iteration No: 4501 -- Total Reward : -207.\n",
      "Iteration No: 4551 -- Total Reward : -210.\n",
      "Iteration No: 4601 -- Total Reward : -179.\n",
      "Iteration No: 4651 -- Total Reward : -205.\n",
      "Iteration No: 4701 -- Total Reward : -211.\n",
      "Iteration No: 4751 -- Total Reward : -212.\n",
      "Iteration No: 4801 -- Total Reward : -207.\n",
      "Iteration No: 4851 -- Total Reward : -206.\n",
      "Iteration No: 4901 -- Total Reward : -211.\n",
      "Iteration No: 4951 -- Total Reward : -1.\n",
      "Mean score :  -2.0\n"
     ]
    },
    {
     "data": {
      "text/plain": [
       "-2.0"
      ]
     },
     "execution_count": 4,
     "metadata": {},
     "output_type": "execute_result"
    }
   ],
   "source": [
    "totStates = 40 \n",
    "totIterations = 5000\n",
    "learningRate = 1.0\n",
    "minLearningRate = 0.005\n",
    "maxStep = 10000\n",
    "\n",
    "# parameters for q learning\n",
    "epsilon = 0.05\n",
    "gamma = 1.0\n",
    "\n",
    "def simulation(environment, policy, render=False):\n",
    "    observation= environment.reset()\n",
    "    reward = 0\n",
    "    count = 0\n",
    "    for _ in range(maxStep):\n",
    "        p,v = obs(environment, observation)\n",
    "        action = policy[p][v]\n",
    "        if render:\n",
    "            environment.render()\n",
    "        observation, reward, done, _ = environment.step(action)\n",
    "        reward += gamma ** count * reward\n",
    "        count += 1\n",
    "        if done:\n",
    "            break\n",
    "    return reward\n",
    "\n",
    "\n",
    "def obs(environment, observation):\n",
    "    low = environment.observation_space.low\n",
    "    high = environment.observation_space.high\n",
    "    dx = (high - low) / totStates\n",
    "    p = int((observation[0] - low[0])/dx[0])\n",
    "    v = int((observation[1] - low[1])/dx[1])\n",
    "    \n",
    "    return p, v\n",
    "\n",
    "\n",
    "environment = gym.make('MountainCar-v0')\n",
    "environment.seed(0)\n",
    "np.random.seed(0)\n",
    "\n",
    "qTable = np.zeros((totStates, totStates, 3))\n",
    "\n",
    "for i in range(totIterations):\n",
    "    observation = environment.reset()\n",
    "    totReward = 0\n",
    "    eta = max(minLearningRate, learningRate * (0.85 ** (i//100)))\n",
    "\n",
    "    for j in range(maxStep):\n",
    "        p, v = obs(environment, observation)\n",
    "\n",
    "        if np.random.uniform(0, 1) < epsilon:\n",
    "            action = np.random.choice(environment.action_space.n)\n",
    "        else:\n",
    "            logits = qTable[p][v]\n",
    "            logits_exp = np.exp(logits)\n",
    "            probabilities = logits_exp / np.sum(logits_exp)\n",
    "            action = np.random.choice(environment.action_space.n, p=probabilities)\n",
    "            observation, reward, done, _ = environment.step(action)\n",
    "\n",
    "        totReward += reward\n",
    "        p_, v_ = obs(environment, observation)\n",
    "        qTable[p][v][action] = qTable[p][v][action] + eta * (reward + gamma *  np.max(qTable[p_][v_]) - qTable[p][v][action])\n",
    "        if done:\n",
    "            break\n",
    "    if i % 50 == 0:\n",
    "        print('Iteration No: %d -- Total Reward : %d.' %(i+1, totReward))\n",
    "\n",
    "solution_policy = np.argmax(qTable, axis=2)\n",
    "solution_policy_scores = [simulation(environment, solution_policy, False) for _ in range(100)]\n",
    "print(\"Mean score : \", np.mean(solution_policy_scores))\n",
    "simulation(environment, solution_policy, True)"
   ]
  },
  {
   "cell_type": "markdown",
   "metadata": {},
   "source": [
    "## Video Demonstration of Solution Policy Solving the Problem\n",
    "As seen in the simulation below, the car is now able to successfully climb the hill in an efficient manner. With the optimal policy now on display."
   ]
  },
  {
   "cell_type": "code",
   "execution_count": 4,
   "metadata": {},
   "outputs": [
    {
     "data": {
      "text/plain": [
       "-118.0"
      ]
     },
     "execution_count": 4,
     "metadata": {},
     "output_type": "execute_result"
    }
   ],
   "source": [
    "episode_simulation(environment, solution_policy, True)"
   ]
  },
  {
   "cell_type": "markdown",
   "metadata": {},
   "source": [
    "# Results & Conclusion\n",
    "The QLearning worked perfectly to solve the gym environment. The car is able to successfully climb up the hill. I learned a lot in this project about how to develop a policy and intergrate it with the already built environments using gym. This course has given me the tools to successfully develop little AI projects. In the future, I would love to implement more complex projects using less already built applications."
   ]
  },
  {
   "cell_type": "markdown",
   "metadata": {},
   "source": [
    "# References\n",
    "\n",
    "https://gym.openai.com/envs/MountainCar-v0/ <br>\n",
    "https://github.com/openai/baselines/<br>\n",
    "https://github.com/Shmuma/ptan/blob/master/docs/intro.ipynb<br>\n",
    "https://github.com/omerbsezer/Qlearning_MountainCar<br>"
   ]
  },
  {
   "cell_type": "code",
   "execution_count": null,
   "metadata": {},
   "outputs": [],
   "source": []
  }
 ],
 "metadata": {
  "kernelspec": {
   "display_name": "Python 3",
   "language": "python",
   "name": "python3"
  },
  "language_info": {
   "codemirror_mode": {
    "name": "ipython",
    "version": 3
   },
   "file_extension": ".py",
   "mimetype": "text/x-python",
   "name": "python",
   "nbconvert_exporter": "python",
   "pygments_lexer": "ipython3",
   "version": "3.7.6"
  }
 },
 "nbformat": 4,
 "nbformat_minor": 4
}
